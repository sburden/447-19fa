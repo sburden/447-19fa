{
  "nbformat": 4,
  "nbformat_minor": 0,
  "metadata": {
    "colab": {
      "name": "447_hw0.ipynb",
      "provenance": [],
      "collapsed_sections": []
    },
    "kernelspec": {
      "name": "python3",
      "display_name": "Python 3"
    }
  },
  "cells": [
    {
      "cell_type": "markdown",
      "metadata": {
        "id": "gqyprtgkiL91",
        "colab_type": "text"
      },
      "source": [
        "# HW0 due 12p (noon) Thu Oct 3\n",
        "\n",
        "This assignment will be graded on participation; so long as you make an effort on each problem and upload a legible pdf to Canvas, you will receive full credit (1 point for each sub-problem).  However, you are responsible for reviewing the prerequisite material needed to understand and solve the self-assessment problems.\n",
        "\n",
        "Future assignments will be graded on both participation and correctness (1 point each, for a total of 2 points for each sub-problem).\n",
        "\n"
      ]
    },
    {
      "cell_type": "markdown",
      "metadata": {
        "id": "nJK4knK98S1g",
        "colab_type": "text"
      },
      "source": [
        "## 1. Welcome to Control Systems!\n",
        "\n",
        "a. What degree are you pursuing, what department, and what concentration?  (e.g. BS in ECE with Systems/Controls/Robotics concentration)\n",
        "\n",
        "b. Why did you enroll in this course?\n",
        "\n",
        "c. What do you hope to learn in this course?\n",
        "\n",
        "d. Log in to Canvas and edit your Profile; add a headshot photo, and specify the name and pronouns we should use to refer to you.  (see my example at https://canvas.uw.edu/about/3510568)\n",
        "\n",
        "e. What do you hope to do after you graduate?\n",
        "\n",
        "\n"
      ]
    },
    {
      "cell_type": "markdown",
      "metadata": {
        "id": "3JRlYikh8Vqy",
        "colab_type": "text"
      },
      "source": [
        "## 2. Self-assessment\n",
        "\n",
        "The following questions are intended to help you assess your background knowledge.  If you need to consult textbooks, websites, or other resources to answer the question, state this and note the resource; suggested resources are indicated for each block of questions.\n",
        "\n"
      ]
    },
    {
      "cell_type": "markdown",
      "metadata": {
        "id": "pXGFG8qq8gHn",
        "colab_type": "text"
      },
      "source": [
        "### math language and logic\n",
        "\n",
        "Textbooks:  [Calculus](https://ocw.mit.edu/resources/res-18-001-calculus-online-textbook-spring-2005/textbook/) (MIT OpenCourseWare) by Strang; [Real mathematical analysis](http://link.springer.com/book/10.1007%2F978-3-319-17771-7) by Pugh.\n",
        "\n",
        "a. Consider the polynomial expression $a x^2 + b x + c$.\n",
        "\n",
        "a.1 Regarding this as a polynomial in $x$, compute the roots.\n",
        "\n",
        "a.2 Regarding this as a polynomial in $a$, compute the roots.\n",
        "\n",
        "a.3 Are any extra assumptions required for your answers to (a.1) or (a.2) to make sense?\n",
        "\n",
        "\n",
        "b. Consider the complex number $z = r e^{\\theta j}\\in\\mathbb{C}$, where $r,\\theta\\in\\mathbb{R}$.\n",
        "\n",
        "b.1 What angle does $z$ make with the real axis?\n",
        "\n",
        "b.2 When $r = 1, \\theta = \\pi/2$, what does $z$ equal?\n",
        "\n",
        "b.3 If we regard $z$ as a vector in the two-dimensional Cartesian plane $\\mathbb{R}^2$, what are the $x$- and $y$-coordinates of $z$?\n",
        "\n",
        "\n",
        "c. Consider the functions $f : X \\rightarrow Y$, $g : Y \\rightarrow Z$.\n",
        "\n",
        "c.1 What is the *domain* of $f$?\n",
        "\n",
        "c.2 If $h : X \\rightarrow Z$ is the *composition* of $g$ and $f$, provide an expression for $h(x)$ that is valid for all $x\\in X$.\n",
        "\n",
        "c.3 With $h$ as in (c.2), supposing $f$ and $g$ are continuously differentiable, provide an expression for $\\frac{d}{dx} h(x)$ that is valid for all $x\\in X$."
      ]
    },
    {
      "cell_type": "markdown",
      "metadata": {
        "id": "nw16EyKP8jMC",
        "colab_type": "text"
      },
      "source": [
        "### linear algebra \n",
        "\n",
        "Textbooks:  [Introduction to Applied Linear Algebra](http://vmls-book.stanford.edu/) by Boyd and Vandenberghe; [Linear Algebra](http://joshua.smcvt.edu/linearalgebra/) by Hefferon.\n",
        "\n",
        "a. TBD"
      ]
    },
    {
      "cell_type": "markdown",
      "metadata": {
        "id": "ZqRkPvk89wJX",
        "colab_type": "text"
      },
      "source": [
        "### signals and systems\n",
        "\n",
        "Textbooks:  [Systems, Signals, and Transforms](https://alliance-primo.hosted.exlibrisgroup.com/primo-explore/fulldisplay?docid=CP71259169820001451&context=L&vid=UW&lang=en_US) by Phillips, Parr, and Riskin; [Signals and Systems](https://alliance-primo.hosted.exlibrisgroup.com/primo-explore/fulldisplay?docid=CP71145530020001451&context=L&vid=UW&lang=en_US) by Oppenheim, Willsky, and Hamid.\n",
        "\n",
        "a. TBD"
      ]
    },
    {
      "cell_type": "markdown",
      "metadata": {
        "id": "nsGr2B79Tldk",
        "colab_type": "text"
      },
      "source": [
        "### scientific computing\n",
        "\n",
        "Resources:  [NumPy for Matlab users](http://mathesaurus.sourceforge.net/matlab-numpy.html); [Dive into Python](http://www.diveintopython3.net/); [NumPy Manual](https://docs.scipy.org/doc/numpy/reference/); [Colaboratory Notebook](https://colab.research.google.com/notebooks/welcome.ipynb)\n",
        "\n",
        "a. TBD"
      ]
    },
    {
      "cell_type": "markdown",
      "metadata": {
        "id": "-ZMq4VfQ8XjS",
        "colab_type": "text"
      },
      "source": [
        "## 3. Texbook exercises\n",
        "\n",
        "Read Chapter 1 of the Astrom / Murray v2 textbook [[AMv2]](http://www.cds.caltech.edu/~murray/amwiki/index.php/Second_Edition), and report your solutions to Exercises 1, 2, 3, 5, and 7 from Chapter 1."
      ]
    },
    {
      "cell_type": "code",
      "metadata": {
        "id": "aiUqumnU8T5z",
        "colab_type": "code",
        "colab": {}
      },
      "source": [
        ""
      ],
      "execution_count": 0,
      "outputs": []
    }
  ]
}